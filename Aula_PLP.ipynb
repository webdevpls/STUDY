{
  "nbformat": 4,
  "nbformat_minor": 0,
  "metadata": {
    "colab": {
      "provenance": [],
      "toc_visible": true,
      "authorship_tag": "ABX9TyNXY98gjP6R5opyDHpV4fBu",
      "include_colab_link": true
    },
    "kernelspec": {
      "name": "python3",
      "display_name": "Python 3"
    },
    "language_info": {
      "name": "python"
    }
  },
  "cells": [
    {
      "cell_type": "markdown",
      "metadata": {
        "id": "view-in-github",
        "colab_type": "text"
      },
      "source": [
        "<a href=\"https://colab.research.google.com/github/pedrolucc11/STUDY/blob/main/Aula_PLP.ipynb\" target=\"_parent\"><img src=\"https://colab.research.google.com/assets/colab-badge.svg\" alt=\"Open In Colab\"/></a>"
      ]
    },
    {
      "cell_type": "code",
      "execution_count": null,
      "metadata": {
        "id": "iyLNFWkqOn7p"
      },
      "outputs": [],
      "source": []
    },
    {
      "cell_type": "markdown",
      "source": [
        "Programa 1 - Objetivo: Fazer a leitura de duas notas e calcular a sua média."
      ],
      "metadata": {
        "id": "upqrZvgYM75t"
      }
    },
    {
      "cell_type": "code",
      "source": [
        "nota1 = float(input(\"informe a 1° nota: \"))\n",
        "nota2 = float(input(\"informe a 2° nota: \"))\n",
        "\n",
        "med = (nota1 + nota2) / 2\n",
        "\n",
        "print(med)"
      ],
      "metadata": {
        "colab": {
          "base_uri": "https://localhost:8080/"
        },
        "id": "Iv8dNu4ONPuP",
        "outputId": "75d869c6-40a0-4915-bc32-7893f5c32a0e"
      },
      "execution_count": null,
      "outputs": [
        {
          "output_type": "stream",
          "name": "stdout",
          "text": [
            "informe a 1° nota: 5\n",
            "informe a 2° nota: 5\n",
            "5.0\n"
          ]
        }
      ]
    },
    {
      "cell_type": "markdown",
      "source": [],
      "metadata": {
        "id": "6x_9tqfHOWrS"
      }
    },
    {
      "cell_type": "markdown",
      "source": [
        "Programa 2 - Objetivo: Escrever o mesmo problema em modularização."
      ],
      "metadata": {
        "id": "OaFab4MhO_KO"
      }
    },
    {
      "cell_type": "code",
      "source": [
        "nota1 = float(input(\"informe a 1° nota: \"))\n",
        "nota2 = float(input(\"informe a 2° nota: \"))\n",
        "\n",
        "def media (n1, n2):\n",
        "  med = (n1 + n2) / 2\n",
        "  return med\n",
        "\n",
        "\n",
        "print(media(nota1,nota2))"
      ],
      "metadata": {
        "id": "3Ok8JWUuPHkO"
      },
      "execution_count": null,
      "outputs": []
    },
    {
      "cell_type": "markdown",
      "source": [
        "Programa 3 - Objetivo: Faça um programa que solicite o preço de uma mercadoria e o percentual de desconto, depois exiba o seu percentual de desconto e o seu preço a pagar."
      ],
      "metadata": {
        "id": "p1tBzOQlQWPE"
      }
    },
    {
      "cell_type": "code",
      "source": [
        "produto = float(input(\"Informe o preço do produto: R$\"))\n",
        "desconto = float(input(\"Informe o percentual de desconto: \"))\n",
        "\n",
        "def descontar(valor1,valor2):\n",
        "  descontado = valor1 * (1 - (valor2/100))\n",
        "  return descontado\n",
        "\n",
        "print('Seu percentual de desconto: %d' % desconto)\n",
        "print('Seu valor após o desconto é R$%1.2f: ' % descontar(produto,desconto))"
      ],
      "metadata": {
        "id": "-doWogaBR-d1"
      },
      "execution_count": null,
      "outputs": []
    },
    {
      "cell_type": "markdown",
      "source": [
        "Programa 4 - Objetivo: Escreva um programa para calcular a redução de vida de um fumante. Pergunte a quantidade de cigarros que você fuma por dia e a quantos anos ele fuma. considere que o fumante perde 10 minutos de vida a cada cigarro, e calcule quantos dias de vida ele perderá. Exiba o total em dias."
      ],
      "metadata": {
        "id": "YSImUHWTVS6l"
      }
    },
    {
      "cell_type": "code",
      "source": [
        "cigarros = int(input(\"Informe a quantidade de cigarros que você fuma por dia, em média: \"))\n",
        "tempo = int(input(\"Informe quantos anos você ja fumou: \"))\n",
        "\n",
        "def reducao(cigarros,tempo):\n",
        "  tempo_total = ((cigarros *(tempo * 365)) * 10)/ 1440\n",
        "  return tempo_total\n",
        "\n",
        "print(\"Seu tempo de redução foi %1.1f dias\" % reducao(cigarros,tempo))"
      ],
      "metadata": {
        "id": "OTLEroC4Vzlh"
      },
      "execution_count": null,
      "outputs": []
    },
    {
      "cell_type": "markdown",
      "source": [
        "Programa 5 - Objetivo: Escreva um programa para controlar uma pequena caixa registradora. Você deve solicitar ao usuário o código do produto e a quantidade comprada. Utilize a tabela de códigos a seguir para obter.\n",
        "\n",
        "Código: Preço 1;0,50 2;1,00 3;4,00 5;7,00 9;8,00. Seu programa deve exibir o total das compras depois que o usuário digitar 0, e exibir uma mensagem de erro caso o código não esteja na lista."
      ],
      "metadata": {
        "id": "USAw1s5KXY8V"
      }
    },
    {
      "cell_type": "code",
      "source": [
        "total = 0\n",
        "while True:\n",
        "  codigo = int(input(\"Digite o código do seu produto: \"))\n",
        "  preco = 0\n",
        "  if (codigo == 0):\n",
        "    break\n",
        "  elif (codigo == 1):\n",
        "    preco = 0.5\n",
        "  elif (codigo == 2):\n",
        "    preco = 1\n",
        "  elif (codigo == 3):\n",
        "    preco = 4\n",
        "  elif codigo == 5:\n",
        "    preco = 7\n",
        "  elif codigo == 9:\n",
        "    preco = 8\n",
        "  else:\n",
        "    print(\"código inválido\")\n",
        "  if preco != 0:\n",
        "    quantidade = int(input(\"Informe a quantidade desse produto: \"))\n",
        "    total = total + (preco * quantidade)\n",
        "\n",
        "print(f\"O preço total foi: R$%1.2f\" % total)"
      ],
      "metadata": {
        "id": "FwfRziplYaJk"
      },
      "execution_count": null,
      "outputs": []
    },
    {
      "cell_type": "markdown",
      "source": [
        "**O CÓDIGO SEGUINTE É O MESMO QUE O PROGRAMA 5, MAS NA LINGUAGEM JAVA:**\n",
        "\n",
        "\n",
        "import java.util.Scanner;\n",
        "\n",
        "public class Main {\n",
        "\n",
        "    public static void main(String[] args) {\n",
        "        // TODO Auto-generated method stub\n",
        "        float total = 0;\n",
        "        double preco = 0;\n",
        "        int quantidade = 0;\n",
        "        Scanner teclado = new Scanner(System.in);\n",
        "        while (true) {\n",
        "            System.out.println(\"Digite o codigo do produto: \");\n",
        "            int codigo = teclado.nextInt();\n",
        "            preco = 0;\n",
        "            if(codigo == 0) {\n",
        "                break;\n",
        "            }else if (codigo == 1) {\n",
        "                preco = 0.5;\n",
        "            }else if (codigo == 2) {\n",
        "                preco = 1;\n",
        "            }else if (codigo == 3) {\n",
        "                preco = 4;\n",
        "            }else if (codigo == 5) {\n",
        "                preco = 7;\n",
        "            }else if (codigo == 9) {\n",
        "                preco = 8;\n",
        "            }else {\n",
        "                System.out.println(\"código inválido\");\n",
        "            }\n",
        "            if(preco != 0) {\n",
        "                System.out.println(\"Digite a quantidade que você comprou do produto: \");\n",
        "                quantidade = teclado.nextInt();\n",
        "                total += (preco * quantidade);\n",
        "            }\n",
        "\n",
        "        }\n",
        "        teclado.close();\n",
        "        System.out.println(\"o preço total foi: R$\" + total);\n",
        "\n",
        "    }\n",
        "\n",
        "}"
      ],
      "metadata": {
        "id": "z-4yBw43mEeh"
      }
    },
    {
      "cell_type": "markdown",
      "source": [
        "**O CÓDIGO SEGUINTE É O MESMO DO PROGRAMA 5, MAS NA LINGUAGEM \"GO\":**\n",
        "\n",
        "\n",
        "package main\n",
        "\n",
        "import (\n",
        "\t\"fmt\"\n",
        ")\n",
        "\n",
        "func main() {\n",
        "\tprices := map[int]float64{\n",
        "\t\t1: 0.50,\n",
        "\t\t2: 1.00,\n",
        "\t\t3: 4.00,\n",
        "\t\t5: 7.00,\n",
        "\t\t9: 8.00,\n",
        "\t}\n",
        "\n",
        "\tvar total float64\n",
        "\n",
        "\tfmt.Println(\"Tabela de códigos e preços:\")\n",
        "\tfmt.Println(\"Código  Preço\")\n",
        "\tfor code, price := range prices {\n",
        "\t\tfmt.Printf(\"%d       %.2f\\n\", code, price)\n",
        "\t}\n",
        "\n",
        "\tfmt.Println(\"\\nDigite o código do item e a quantidade comprada (ou código 0 para finalizar):\")\n",
        "\n",
        "\tfor {\n",
        "\t\tvar code, quantity int\n",
        "\t\tfmt.Print(\"Código: \")\n",
        "\t\tfmt.Scan(&code)\n",
        "\n",
        "\t\tif code == 0 {\n",
        "\t\t\tbreak\n",
        "\t\t}\n",
        "\n",
        "\t\tprice, exists := prices[code]\n",
        "\t\tif !exists {\n",
        "\t\t\tfmt.Println(\"Código inválido!\")\n",
        "\t\t\tcontinue\n",
        "\t\t}\n",
        "\n",
        "\t\tfmt.Print(\"Quantidade: \")\n",
        "\t\tfmt.Scan(&quantity)\n",
        "\n",
        "\t\ttotal += price * float64(quantity)\n",
        "\t}\n",
        "\n",
        "\tfmt.Printf(\"Total das compras: R$%.2f\\n\", total)\n",
        "}"
      ],
      "metadata": {
        "id": "2MNCnz0bqkXT"
      }
    },
    {
      "cell_type": "markdown",
      "source": [
        "\n",
        "Programa 6 - Objetivo: Escreva um programa que pergunte o salário do funcionário e calcule o valor do aumento. Para salários superiores a R$ 1.250,00, calcule um aumento de 10%. Para os inferiores ou iguais, de 15%"
      ],
      "metadata": {
        "id": "PB6pzitGTa-X"
      }
    },
    {
      "cell_type": "code",
      "source": [
        "salario = float(input(\"Insira o salário do funcionário: \"))\n",
        "print(\"R$\",salario * 1.10 if salario > 1250 else salario * 1.15)"
      ],
      "metadata": {
        "id": "1RoOOwCvTl33"
      },
      "execution_count": null,
      "outputs": []
    },
    {
      "cell_type": "markdown",
      "source": [
        "Programa 7 parte 1 - Objetivo: Le um vetor de 8 posições e , em seguida lê os dois valores x e y quaisquer correspondentes a duas posições no vetor . o programa então imprime a soma dos valores encontrados nas respectivas posições x e y."
      ],
      "metadata": {
        "id": "ICfPckXrUPsj"
      }
    },
    {
      "cell_type": "code",
      "source": [
        "vetor = []\n",
        "for i in range (8):\n",
        "  vetor.append(int(input(f\"Digite o valor para a posição {i}: \")))\n",
        "\n",
        "x = int(input(\"digite a primeira posição: \"))\n",
        "y = int(input(\"digite a segunda posição: \"))\n",
        "\n",
        "if (x > 7 or y>7):\n",
        "  print(\"\\nPosição(ões) inválida(s)!!!\")\n",
        "else:\n",
        "  print(f\"a soma dos dois numeros selecionados foi: {vetor[x]+vetor[y]}\")"
      ],
      "metadata": {
        "colab": {
          "base_uri": "https://localhost:8080/"
        },
        "id": "sMb350pJUqUm",
        "outputId": "cb22226f-20d1-4781-cb72-4c55e8c679a5"
      },
      "execution_count": null,
      "outputs": [
        {
          "output_type": "stream",
          "name": "stdout",
          "text": [
            "Digite o valor para a posição 0: 0\n",
            "Digite o valor para a posição 1: 1\n",
            "Digite o valor para a posição 2: 2\n",
            "Digite o valor para a posição 3: 3\n",
            "Digite o valor para a posição 4: 4\n",
            "Digite o valor para a posição 5: 5\n",
            "Digite o valor para a posição 6: 6\n",
            "Digite o valor para a posição 7: 7\n",
            "digite a primeira posição: 1\n",
            "digite a segunda posição: 4\n",
            "a soma dos dois numeros selecionados foi: 5\n"
          ]
        }
      ]
    },
    {
      "cell_type": "markdown",
      "source": [
        "Programa 7 parte 2 - Objetivo: Faça um progrma e phyton que receba do usuario um vetor com 10 posições. em seguida devera ser impresso o maior e o menor do vetor"
      ],
      "metadata": {
        "id": "PwXIg2cSYOck"
      }
    },
    {
      "cell_type": "code",
      "source": [
        "maior = float('-inf')\n",
        "menor = float('inf')\n",
        "\n",
        "vetor = []\n",
        "for i in range(10):\n",
        "    numero = float(input(f\"Digite o número da {i+1}° posição: \"))\n",
        "    vetor.append(numero)\n",
        "    if numero > maior:\n",
        "        maior = numero\n",
        "    if numero < menor:\n",
        "        menor = numero\n",
        "\n",
        "print(f\"O maior valor digitado foi: {maior}\")\n",
        "print(f\"O menor valor digitado foi: {menor}\")"
      ],
      "metadata": {
        "colab": {
          "base_uri": "https://localhost:8080/"
        },
        "id": "kH0D_VoMYeWS",
        "outputId": "4e1095c0-612e-412a-b7fe-34b93741f35d"
      },
      "execution_count": null,
      "outputs": [
        {
          "output_type": "stream",
          "name": "stdout",
          "text": [
            "Digite o número da 1° posição: 1\n",
            "Digite o número da 2° posição: 2\n",
            "Digite o número da 3° posição: 3\n",
            "Digite o número da 4° posição: -2928\n",
            "Digite o número da 5° posição: 4\n",
            "Digite o número da 6° posição: 5\n",
            "Digite o número da 7° posição: 6\n",
            "Digite o número da 8° posição: 3\n",
            "Digite o número da 9° posição: 4\n",
            "Digite o número da 10° posição: 1291824\n",
            "O maior valor digitado foi: 1291824.0\n",
            "O menor valor digitado foi: -2928.0\n"
          ]
        }
      ]
    },
    {
      "cell_type": "markdown",
      "source": [
        "Programa 8 - Objetivo: Crie um dicionário que é uma agenda e coloque nele os seguintes dados: chave (cpf),\n",
        " nome, idade, telefone. O programa deve ler um número indeterminado de dados, criar a\n",
        " agenda e imprimir todos os itens do dicionário no formato chave: nome, idade, fone."
      ],
      "metadata": {
        "id": "8tR04pdMcfPh"
      }
    },
    {
      "cell_type": "code",
      "source": [
        "def adicionarAgenda(agenda):\n",
        "        # Lê os dados da agenda\n",
        "        cpf = input(\"Digite o CPF: \")\n",
        "        nome = input(\"Digite o nome: \")\n",
        "        idade = input(\"Digite a idade: \")\n",
        "        telefone = input(\"Digite o telefone: \")\n",
        "\n",
        "        # Adiciona os dados ao dicionário\n",
        "        agenda[cpf] = {\n",
        "            \"nome\": nome,\n",
        "            \"idade\": idade,\n",
        "            \"telefone\": telefone,\n",
        "        }\n",
        "\n",
        "def imprimirDicionario(agenda):\n",
        "     # Imprime os itens do dicionário\n",
        "    for cpf, contato in agenda.items():\n",
        "        print(cpf, contato[\"nome\"], contato[\"idade\"], contato[\"telefone\"])\n",
        "\n",
        "def main():\n",
        "    # Cria um dicionário vazio\n",
        "    agenda = {}\n",
        "\n",
        "    while True:\n",
        "        adicionarAgenda(agenda)\n",
        "        # Pergunta se o usuário deseja continuar\n",
        "        continuar = input(\"Deseja continuar? (s/n): \")\n",
        "        if continuar == \"n\":\n",
        "            break\n",
        "\n",
        "    imprimirDicionario(agenda)\n",
        "\n",
        "\n",
        "if __name__ == \"__main__\":\n",
        "    main()\n"
      ],
      "metadata": {
        "id": "EBhKPcIgg-_X"
      },
      "execution_count": null,
      "outputs": []
    },
    {
      "cell_type": "markdown",
      "source": [
        "Programa 9 - Objetivo: Construa um dicionário com nome, salariobruto, salario liquido,\n",
        "para número indeterminado de pessoas, nele será calculado o\n",
        "desconto de 8% do INSS e de 10% para IRPF. Preciso que o\n",
        "programa seja escrito na Linguagem Python de forma Otimizada.."
      ],
      "metadata": {
        "id": "dHebIgElmMo3"
      }
    },
    {
      "cell_type": "code",
      "source": [
        "def main():\n",
        "    # Cria um dicionário vazio\n",
        "    folha_de_pagamento = {}\n",
        "\n",
        "    # Lê os dados da folha de pagamento\n",
        "    while True:\n",
        "        # Lê o nome e o salário bruto\n",
        "        nome = input(\"Digite o nome: \")\n",
        "        salario_bruto = float(input(\"Digite o salário bruto: \"))\n",
        "\n",
        "        # Calcula o desconto do INSS\n",
        "        desconto_inss = salario_bruto * 0.08\n",
        "\n",
        "        # Calcula o desconto do IRPF\n",
        "        desconto_irpf = 0\n",
        "        if salario_bruto > 1903.98:\n",
        "            desconto_irpf = salario_bruto * 0.10\n",
        "\n",
        "        # Calcula o salário líquido\n",
        "        salario_liquido = salario_bruto - desconto_inss - desconto_irpf\n",
        "\n",
        "        # Adiciona os dados ao dicionário\n",
        "        folha_de_pagamento[nome] = {\n",
        "            \"salario_bruto\": salario_bruto,\n",
        "            \"desconto_inss\": desconto_inss,\n",
        "            \"desconto_irpf\": desconto_irpf,\n",
        "            \"salario_liquido\": salario_liquido,\n",
        "        }\n",
        "\n",
        "        # Pergunta se o usuário deseja continuar\n",
        "        continuar = input(\"Deseja continuar? (s/n): \")\n",
        "        if continuar != \"s\":\n",
        "            break\n",
        "\n",
        "    # Imprime os itens do dicionário\n",
        "    for nome, dados in folha_de_pagamento.items():\n",
        "        print(nome, dados[\"salario_bruto\"], dados[\"desconto_inss\"], dados[\"desconto_irpf\"], dados[\"salario_liquido\"])\n",
        "\n",
        "\n",
        "if __name__ == \"__main__\":\n",
        "    main()"
      ],
      "metadata": {
        "id": "MVB5ArX_mMY_"
      },
      "execution_count": null,
      "outputs": []
    }
  ]
}