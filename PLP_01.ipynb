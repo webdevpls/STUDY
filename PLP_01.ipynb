{
  "nbformat": 4,
  "nbformat_minor": 0,
  "metadata": {
    "colab": {
      "provenance": [],
      "authorship_tag": "ABX9TyOuTvEPDNJK+m7EdWPgWO4q",
      "include_colab_link": true
    },
    "kernelspec": {
      "name": "python3",
      "display_name": "Python 3"
    },
    "language_info": {
      "name": "python"
    }
  },
  "cells": [
    {
      "cell_type": "markdown",
      "metadata": {
        "id": "view-in-github",
        "colab_type": "text"
      },
      "source": [
        "<a href=\"https://colab.research.google.com/github/pedrolucc11/STUDY/blob/main/PLP_01.ipynb\" target=\"_parent\"><img src=\"https://colab.research.google.com/assets/colab-badge.svg\" alt=\"Open In Colab\"/></a>"
      ]
    },
    {
      "cell_type": "code",
      "source": [],
      "metadata": {
        "id": "auTDlHdZRN35"
      },
      "execution_count": null,
      "outputs": []
    },
    {
      "cell_type": "markdown",
      "source": [
        "**Programa 01 - Fazer uma leitura de duas notas e calcular a sua média:**\n",
        "\n"
      ],
      "metadata": {
        "id": "NMwO7262M95_"
      }
    },
    {
      "cell_type": "code",
      "source": [],
      "metadata": {
        "id": "TO7YGwK-RW4-"
      },
      "execution_count": null,
      "outputs": []
    },
    {
      "cell_type": "code",
      "source": [
        "nota1 = float(input(\"Informe a nota 1: \"))\n",
        "nota2 = float(input(\"Informe a nota 2: \"))\n",
        "media = (nota1 + nota2)/2\n",
        "print(\"A média é: \")\n",
        "print(media)\n",
        "\n",
        "if media >= 7:\n",
        "  print(\"Aprovado\")\n",
        "\n",
        "if media <= 6:\n",
        "    print(\"Reprovado\")\n",
        "\n",
        "else:\n",
        "    print(\"Nada a declarar\")"
      ],
      "metadata": {
        "colab": {
          "base_uri": "https://localhost:8080/"
        },
        "id": "7HxLZDmONLme",
        "outputId": "ef5181d1-7f6c-42f2-891f-c08dec08d27d"
      },
      "execution_count": 10,
      "outputs": [
        {
          "output_type": "stream",
          "name": "stdout",
          "text": [
            "Informe a nota 1: 10\n",
            "Informe a nota 2: 5\n",
            "Sua primeira nota:\n",
            "10.0\n",
            "Sua segunda nota:\n",
            "5.0\n",
            "Sua media:\n",
            "<function media at 0x7f592f733c70>\n"
          ]
        }
      ]
    },
    {
      "cell_type": "markdown",
      "source": [
        "**PROGRAMA 02 - Escrevendo o mesmo problema de forma modularizada com funçoes e procedimentos:**"
      ],
      "metadata": {
        "id": "xVqSLmsJPqZF"
      }
    },
    {
      "cell_type": "code",
      "source": [
        "def media(nota1, nota2):\n",
        "  return(nota1+nota2)/2\n",
        "\n",
        "nota1 = float(input(\"Informe a nota 1: \"))\n",
        "nota2 = float(input(\"Informe a nota 2: \"))\n",
        "\n",
        "\n",
        "\n",
        "\n",
        "print(\"Sua media:\")\n",
        "print(media(nota1, nota2))"
      ],
      "metadata": {
        "colab": {
          "base_uri": "https://localhost:8080/"
        },
        "id": "eTXp2E-cPyeN",
        "outputId": "3752f929-5855-45e3-e49d-7e1affc119db"
      },
      "execution_count": 19,
      "outputs": [
        {
          "output_type": "stream",
          "name": "stdout",
          "text": [
            "Informe a nota 1: 5\n",
            "Informe a nota 2: 2\n",
            "Sua media:\n",
            "3.5\n"
          ]
        }
      ]
    },
    {
      "cell_type": "markdown",
      "source": [
        "**Programa 03 - Faça um programa que solicite o preço de uma mercadoria e o percentual de desconto. Exiba o Valor do desconto e o preço a pagar**"
      ],
      "metadata": {
        "id": "63SZUeYUR2E-"
      }
    },
    {
      "cell_type": "code",
      "source": [
        "produto = float(input(\"Informe o valor do produto: \"))\n",
        "desconto = float(input(\"Informe o desconto: \"))\n",
        "\n",
        "valordesconto = produto*desconto/100\n",
        "valorfinal = produto-valordesconto\n",
        "\n",
        "\n",
        "print(\"Um desconto de %2.0f %% em uma mercadoria de R$ %2.2f\" % (desconto, produto))\n",
        "print(\"vale R$ %2.2f.\" % valordesconto)\n",
        "print(\"O valor a pagar é de R$ %2.2f\" % valorfinal)"
      ],
      "metadata": {
        "colab": {
          "base_uri": "https://localhost:8080/"
        },
        "id": "Ojk0iTsgSPHb",
        "outputId": "7ee079d2-adb5-4b7a-f33d-898c24b03e70"
      },
      "execution_count": 27,
      "outputs": [
        {
          "output_type": "stream",
          "name": "stdout",
          "text": [
            "Informe o valor do produto: 10\n",
            "Informe o desconto: 10\n",
            "Um desconto de 10 % em uma mercadoria de R$ 10.00\n",
            "vale R$ 1.00.\n",
            "O valor a pagar é de R$ 9.00\n"
          ]
        }
      ]
    },
    {
      "cell_type": "markdown",
      "source": [
        "**Programa 04 - Escreva um programa para calcular a redução do tempo de vida de um fumante. Pergunte a quantidade de cigarros fumados por dia e quantos anos ele já fumou. Considere que um fumante perde 10 minutos de vida a cada cigarro, e calcule quantos dias de vida um fumante perderá. Exiba o total em dias.**"
      ],
      "metadata": {
        "id": "qbe-PM1UVVEz"
      }
    },
    {
      "cell_type": "code",
      "source": [
        "cigarrosdia = int(input(\"Quantidade de cigarros por dia: \"))\n",
        "anosfumando = float(input(\"Quantidade de anos fumando: \"))\n",
        "reduçãominutos = anosfumando * 365 * cigarrosdia * 10\n",
        "\n",
        "# Um dia tem 24 x 60 minutos\n",
        "\n",
        "reduçãodias = reduçãominutos / (24 * 60)\n",
        "print(\"Redução do tempo de vida: %2.2f dias\" % reduçãodias)"
      ],
      "metadata": {
        "colab": {
          "base_uri": "https://localhost:8080/"
        },
        "id": "ChfUaefbVNQ7",
        "outputId": "711a04cb-5859-4810-9798-157f5183f9c9"
      },
      "execution_count": 26,
      "outputs": [
        {
          "output_type": "stream",
          "name": "stdout",
          "text": [
            "Quantidade de cigarros por dia: 10\n",
            "Quantidade de anos fumando: 50\n",
            "Redução do tempo de vida: 1267.36 dias\n"
          ]
        }
      ]
    }
  ]
}